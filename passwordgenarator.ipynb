{
 "cells": [
  {
   "cell_type": "code",
   "execution_count": 1,
   "id": "941ef7b3-f04c-4065-abec-0d1e4a40855e",
   "metadata": {
    "tags": []
   },
   "outputs": [],
   "source": [
    "from tkinter import *\n",
    "import random\n",
    "import string\n",
    "\n",
    "li=list(string.ascii_letters+string.digits+'!'+'@'+'#'+'$'+'&'+'*'+'?'+'_'+'-'+'|')\n",
    "pasww=''\n",
    "root=Tk()\n",
    "root.geometry('500x450')\n",
    "root.configure(bg=\"#F3E1DD\")\n",
    "root.title('Password Generator')\n",
    "root.resizable(width=False,height=False)\n",
    "label=Label(root,text=\"PASSWORD GENERATOR\",font=('verdana',15,'bold'),pady=20,bg=\"#F3E1DD\")\n",
    "label.pack()\n",
    "userlbl=Label(root,text='Enter Username :',font=('arial',12,''),bg=\"#F3E1DD\")\n",
    "userlbl.place(relx=.2,rely=.2)\n",
    "userentry=Entry(root,bd=2,font=('arial',12,''),width=15)\n",
    "userentry.place(relx=.48,rely=.2)\n",
    "lengthlbl=Label(root,text=\"Enter Length :\",font=('arial',12,''),bg=\"#F3E1DD\")\n",
    "lengthlbl.place(relx=.2,rely=.3)\n",
    "lengthentry=Entry(root,bd=2,width=15,font=('arial',12,''))\n",
    "lengthentry.place(relx=.48,rely=.3)\n",
    "def newpasw():\n",
    "    global pasww\n",
    "    pasww=''\n",
    "    paswent.delete(0,'end')\n",
    "    length=int(lengthentry.get())\n",
    "    for i in range(length):\n",
    "        pasww=pasww+str(random.choice(li))\n",
    "    paswent.insert(0,pasww)\n",
    "gbtn=Button(root,text='Generate',font=('verdana',10,''),command=newpasw)\n",
    "gbtn.place(relx=.35,rely=.4)\n",
    "paswlbl=Label(root,text='Your Password :',font=('arial',12,''),bg=\"#F3E1DD\")\n",
    "paswlbl.place(relx=.2,rely=.5)\n",
    "paswent=Entry(root,bd=2,width=17,font=('arial',12,''))\n",
    "paswent.place(relx=.48,rely=.5)\n",
    "resetbtn=Button(root,text='Reset',font=('verdana',10,''),command=newpasw)\n",
    "resetbtn.place(relx=.35,rely=.6)\n",
    "root.mainloop()"
   ]
  },
  {
   "cell_type": "code",
   "execution_count": null,
   "id": "cb59611c-4ec3-4adf-b3dc-56d17b43d9db",
   "metadata": {},
   "outputs": [],
   "source": []
  }
 ],
 "metadata": {
  "kernelspec": {
   "display_name": "Python 3 (ipykernel)",
   "language": "python",
   "name": "python3"
  },
  "language_info": {
   "codemirror_mode": {
    "name": "ipython",
    "version": 3
   },
   "file_extension": ".py",
   "mimetype": "text/x-python",
   "name": "python",
   "nbconvert_exporter": "python",
   "pygments_lexer": "ipython3",
   "version": "3.11.5"
  }
 },
 "nbformat": 4,
 "nbformat_minor": 5
}
