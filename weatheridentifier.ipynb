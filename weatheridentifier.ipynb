{
 "cells": [
  {
   "cell_type": "code",
   "execution_count": 27,
   "id": "dd3a0bff-ddb3-4298-bee4-bb8c55579eb2",
   "metadata": {
    "tags": []
   },
   "outputs": [],
   "source": [
    "from tkinter import *\n",
    "from tkinter.ttk import Combobox\n",
    "import requests\n",
    "def search():\n",
    "    city=cityent.get()\n",
    "    API='be2f8c462949179a4983beaa97a98b28'\n",
    "    data=requests.get(f'https://api.openweathermap.org/data/2.5/weather?q={city}&appid=57862eac9e918db41204005466d9d8d4').json()\n",
    "    cityname1.config(text=city)\n",
    "    weather1.config(text=data['weather'][0]['main'])\n",
    "    weatherdes1.config(text=data['weather'][0]['description'])\n",
    "    temp1.config(text=str(int(data['main']['temp']-273.15))+'  C')\n",
    "    humdity1.config(text=data['main']['humidit'])\n",
    "root=Tk()\n",
    "root.title(\"Weather Forecasting.py\")\n",
    "root.state(\"zoomed\")\n",
    "root.resizable(width=False,height=False)\n",
    "\n",
    "title=Label(root,text=\"Weather Forecast Application\",font=('sanserif',20,'bold','italic'),pady=20,bg='white')\n",
    "title.pack()\n",
    "city=Label(root,text=\"Enter City Name :\",font=('arial',13,''))\n",
    "city.place(relx=.2,rely=.2)\n",
    "li=[\"Andhra Pradesh\",\"Arunachal Pradesh \",\"Assam\",\"Bihar\",\"Chhattisgarh\",\"Goa\",\"Gujarat\",\"Haryana\",\"Himachal Pradesh\",\"Jammu and Kashmir\",\"Jharkhand\",\"Karnataka\",\"Kerala\",\"Madhya Pradesh\",\"Maharashtra\",\"Manipur\",\"Meghalaya\",\"Mizoram\",\"Nagaland\",\"Odisha\",\"Punjab\",\"Rajasthan\",\"Sikkim\",\"Tamil Nadu\",\"Telangana\",\"Tripura\",\"Uttar Pradesh\",\"Uttarakhand\",\"West Bengal\",\"Andaman and Nicobar Islands\",\"Chandigarh\",\"Dadra and Nagar Haveli\",\"Daman and Diu\",\"Lakshadweep\",\"National Capital Territory of Delhi\",\"Puducherry\"]\n",
    "cityent=Combobox(root,font=('arial',13,''),values=li)\n",
    "cityent.current(0)\n",
    "cityent.place(relx=.33,rely=.2)\n",
    "check=Button(root,text=\"Check Weather\",font=('verdana',10,''),command=search)\n",
    "check.place(relx=.3,rely=.3)\n",
    "cityname=Label(root,text='City/State :\\t',font=('New Times Roman',15,''))\n",
    "cityname.place(relx=.24,rely=.37)\n",
    "cityname1=Label(root,font=('New Times Roman',15,''))\n",
    "cityname1.place(relx=.4,rely=.37)\n",
    "weather=Label(root,text=\"Weather :\\t\",font=('New Times Roman',15,''))\n",
    "weather.place(relx=.24,rely=.45)\n",
    "weather1=Label(root,font=('New Times Roman',15,''))\n",
    "weather1.place(relx=.4,rely=.45)\n",
    "weatherdes=Label(root,text=\"Weather Description:\",font=('New Times Roman',15,''))\n",
    "weatherdes.place(relx=.24,rely=.55)\n",
    "weatherdes1=Label(root,font=('New Times Roman',15,''))\n",
    "weatherdes1.place(relx=.4,rely=.55)\n",
    "temp=Label(root,text=\"Temprature :\",font=('New Times Roman',15,''))\n",
    "temp.place(relx=.24,rely=.65)\n",
    "temp1=Label(root,font=('New Times Roman',15,''))\n",
    "temp1.place(relx=.4,rely=.65)\n",
    "humidity=Label(root,text=\"Humidity\",font=('New Times Roman',15,''))\n",
    "humidity.place(relx=.24,rely=.75)\n",
    "humidity1=Label(root,font=('New Times Roman',15,''))\n",
    "humidity1.place(relx=.4,rely=.75)\n",
    "root.mainloop()"
   ]
  },
  {
   "cell_type": "code",
   "execution_count": null,
   "id": "a494dd1f-498b-4e48-93bf-45add9af9525",
   "metadata": {},
   "outputs": [],
   "source": []
  }
 ],
 "metadata": {
  "kernelspec": {
   "display_name": "Python 3 (ipykernel)",
   "language": "python",
   "name": "python3"
  },
  "language_info": {
   "codemirror_mode": {
    "name": "ipython",
    "version": 3
   },
   "file_extension": ".py",
   "mimetype": "text/x-python",
   "name": "python",
   "nbconvert_exporter": "python",
   "pygments_lexer": "ipython3",
   "version": "3.11.5"
  }
 },
 "nbformat": 4,
 "nbformat_minor": 5
}
