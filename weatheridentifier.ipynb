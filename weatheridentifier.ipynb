{
 "cells": [
  {
   "cell_type": "code",
   "execution_count": null,
   "id": "dd3a0bff-ddb3-4298-bee4-bb8c55579eb2",
   "metadata": {
    "tags": []
   },
   "outputs": [],
   "source": [
    "# from tkinter import *\n",
    "# from tkinter.ttk import Combobox\n",
    "import requests\n",
    "def search():\n",
    "    city='noida' #cityent.get()\n",
    "    API='be2f8c462949179a4983beaa97a98b28'\n",
    "    data=requests.get(f'https://api.openweathermap.org/data/2.5/weather?q=rohtak&appid=57862eac9e918db41204005466d9d8d4').json()\n",
    "    print(data)\n",
    "# root=Tk()\n",
    "# root.title(\"Weather Forecasting.py\")\n",
    "# root.state(\"zoomed\")\n",
    "# root.resizable(width=False,height=False)\n",
    "\n",
    "# title=Label(root,text=\"Weather Forecast Application\",font=('sanserif',20,'bold','italic'),pady=20,bg='white')\n",
    "# title.pack()\n",
    "# city=Label(root,text=\"Enter City Name :\",font=('arial',13,''))\n",
    "# city.place(relx=.2,rely=.2)\n",
    "# li=['qwdq','da']\n",
    "# cityent=Combobox(root,font=('arial',13,''),values=li)\n",
    "# cityent.current(0)\n",
    "# cityent.place(relx=.33,rely=.2)\n",
    "# check=Button(root,)\n",
    "# root.mainloop()\n",
    "search()"
   ]
  },
  {
   "cell_type": "code",
   "execution_count": null,
   "id": "a494dd1f-498b-4e48-93bf-45add9af9525",
   "metadata": {},
   "outputs": [],
   "source": []
  }
 ],
 "metadata": {
  "kernelspec": {
   "display_name": "Python 3 (ipykernel)",
   "language": "python",
   "name": "python3"
  },
  "language_info": {
   "codemirror_mode": {
    "name": "ipython",
    "version": 3
   },
   "file_extension": ".py",
   "mimetype": "text/x-python",
   "name": "python",
   "nbconvert_exporter": "python",
   "pygments_lexer": "ipython3",
   "version": "3.11.5"
  }
 },
 "nbformat": 4,
 "nbformat_minor": 5
}
