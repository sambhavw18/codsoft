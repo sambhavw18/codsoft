{
 "cells": [
  {
   "cell_type": "code",
   "execution_count": null,
   "id": "165bda7e-56fc-4f70-a34f-8c6f74371ede",
   "metadata": {
    "tags": []
   },
   "outputs": [],
   "source": [
    "from tkinter import *\n",
    "from tkinter.ttk import Combobox\n",
    "\n",
    "i=0\n",
    "a=0\n",
    "b=0\n",
    "window=Tk()\n",
    "window.geometry('600x600')\n",
    "window.configure(bg=\"#9DCDC0\")\n",
    "window.title(\"To Do List App\")\n",
    "window.resizable(height=False,width=False)\n",
    "titlefrm=Frame(window,bg='#AC9969')\n",
    "titlefrm.place(relx=0,rely=0,relwidth=1,relheight=.1)\n",
    "label=Label(titlefrm,text=\"To Do List\",font=('arial',15,'bold'),bg='#AC9969',fg='#F8FA90',pady=20)\n",
    "label.pack()\n",
    "enterlbl=Label(window,text=\"Enter Task Name :\",font=('arial',12,''),bg=\"#9DCDC0\")\n",
    "enterlbl.place(relx=.2,rely=.2)\n",
    "enter=Entry(window,bd=2,font=('arial',12,''))\n",
    "enter.place(relx=.43,rely=.2)\n",
    "def addtask():\n",
    "    global i\n",
    "    en=enter.get()\n",
    "    listbx.insert(i,en)\n",
    "    i+=1\n",
    "    enter.delete(0,'end')\n",
    "def delete():\n",
    "    global a\n",
    "    a=listbx.curselection()\n",
    "    listbx.delete(a)\n",
    "def edit():\n",
    "    global b,c\n",
    "    b=listbx.curselection()\n",
    "    c=listbx.get(b)\n",
    "    enter.delete(0,'end')\n",
    "    enter.insert(0,c)\n",
    "def update():\n",
    "    delete()\n",
    "    addtask()\n",
    "addbtn=Button(window,text=\"ADD Task\",bd=2,font=('verdana',10,''),command=addtask)\n",
    "addbtn.place(relx=.35,rely=.27)\n",
    "updatebtn=Button(window,text=\"Update Task\",bd=2,font=('verdana',10,''),command=update)\n",
    "updatebtn.place(relx=.5,rely=.27)\n",
    "frame=Frame(window,bg='grey')\n",
    "frame.place(relx=.07,rely=.32,relheight=.65,relwidth=.85)\n",
    "listbx=Listbox(frame,font=('arial',15,''))\n",
    "listbx.place(relx=0,rely=0,relwidth=1,relheight=1)\n",
    "selct=Label(window,text=\"Select Task To Edit/Delete\",font=('arial',10,''),bg=\"#9DCDC0\")\n",
    "selct.place(relx=.7,rely=.27)\n",
    "editbtn=Button(window,text='Edit',font=('arial',10,''),command=edit)\n",
    "editbtn.place(relx=.77,rely=.32)\n",
    "deletbtn=Button(window,text='Delete',font=('arial',10,''),command=delete)\n",
    "deletbtn.place(relx=.83,rely=.32)\n",
    "window.mainloop()"
   ]
  },
  {
   "cell_type": "code",
   "execution_count": null,
   "id": "b1b65931-bb09-4aa0-a666-da7e3f87e7db",
   "metadata": {},
   "outputs": [],
   "source": []
  }
 ],
 "metadata": {
  "kernelspec": {
   "display_name": "Python 3 (ipykernel)",
   "language": "python",
   "name": "python3"
  },
  "language_info": {
   "codemirror_mode": {
    "name": "ipython",
    "version": 3
   },
   "file_extension": ".py",
   "mimetype": "text/x-python",
   "name": "python",
   "nbconvert_exporter": "python",
   "pygments_lexer": "ipython3",
   "version": "3.11.5"
  }
 },
 "nbformat": 4,
 "nbformat_minor": 5
}
